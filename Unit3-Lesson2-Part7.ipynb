{
 "cells": [
  {
   "cell_type": "markdown",
   "metadata": {},
   "source": [
    "The popular neighborhoods in Amsterdam may be different on December 24th compared to most other dates because it is the day before Christmas. People staying there on this date are probably more likely to want to stay close to family, or perhaps near firework displays or shopping centers for the sales. At other times of year, people may have very different priorities, such as being near tourist attractions or transport hubs."
   ]
  },
  {
   "cell_type": "markdown",
   "metadata": {},
   "source": [
    "Mental health service use is likely to be much higher in New York the day after the September 11th attacks than many other days. The comparison between NY and SF should not be done on that day as people in NY are likely to have been far more affected by the attacks, as they may have known people involved or seen the incident in person."
   ]
  },
  {
   "cell_type": "markdown",
   "metadata": {},
   "source": [
    "A quick glance at the data reveals that 93% of respondents are students and 79% of respondents come from the 'capital' stratum. The dataset is therefore only likely to be of use in identifying the preferences of students who are from the capital, as the data relating to other Amenians is extremely limited (total 175 respondents)."
   ]
  },
  {
   "cell_type": "code",
   "execution_count": null,
   "metadata": {},
   "outputs": [],
   "source": []
  }
 ],
 "metadata": {
  "kernelspec": {
   "display_name": "Python 3",
   "language": "python",
   "name": "python3"
  },
  "language_info": {
   "codemirror_mode": {
    "name": "ipython",
    "version": 3
   },
   "file_extension": ".py",
   "mimetype": "text/x-python",
   "name": "python",
   "nbconvert_exporter": "python",
   "pygments_lexer": "ipython3",
   "version": "3.7.2"
  }
 },
 "nbformat": 4,
 "nbformat_minor": 2
}
