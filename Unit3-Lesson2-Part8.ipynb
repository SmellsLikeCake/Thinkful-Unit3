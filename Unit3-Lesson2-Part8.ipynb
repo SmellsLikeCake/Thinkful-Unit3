{
 "cells": [
  {
   "cell_type": "markdown",
   "metadata": {},
   "source": [
    "I have heard of this problem before, and I have in the back of my mind that you should switch doors, but I'll jot down my thoughts anyway!\n",
    "\n",
    "When you first choose a door you have a 1 in 3 chance of getting the prize door. \n",
    "\n",
    "The door opened by the host cannot be the prize door. So if you've chosen the prize already it's just a random 50/50 choice which one is opened. If you haven't chosen the prize then the host has no choice.\n",
    "\n",
    "When choosing whether to switch the other door now has a 1 in 2 chance of being the right door. \n",
    "\n",
    "The question is whether the original door still has a 1 in 3 chance of being right or whether it is also now 1 in 2. I don't know!\n",
    "\n",
    "If you hadn't picked the door, then it would now be 1 in 2. But the picking prevented the host from choosing the door and therefore prevented it from the possibility of being chosen, so I guess we have no additional information about this door. So maybe it is 1 in 3 still.\n",
    "\n",
    "Therefore, weird as it is, I guess it's better to switch."
   ]
  }
 ],
 "metadata": {
  "kernelspec": {
   "display_name": "Python 3",
   "language": "python",
   "name": "python3"
  },
  "language_info": {
   "codemirror_mode": {
    "name": "ipython",
    "version": 3
   },
   "file_extension": ".py",
   "mimetype": "text/x-python",
   "name": "python",
   "nbconvert_exporter": "python",
   "pygments_lexer": "ipython3",
   "version": "3.7.2"
  }
 },
 "nbformat": 4,
 "nbformat_minor": 2
}
