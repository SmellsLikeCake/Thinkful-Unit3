{
 "cells": [
  {
   "cell_type": "code",
   "execution_count": 1,
   "metadata": {},
   "outputs": [],
   "source": [
    "import pandas as pd\n",
    "import numpy as np\n",
    "import statistics\n",
    "import matplotlib.pyplot as plt\n",
    "%matplotlib inline"
   ]
  },
  {
   "cell_type": "code",
   "execution_count": 2,
   "metadata": {},
   "outputs": [],
   "source": [
    "kids = pd.DataFrame()\n",
    "kids['name'] = ['Greg', 'Marcia', 'Peter', 'Jan', 'Bobby', 'Cindy', 'Oliver']"
   ]
  },
  {
   "cell_type": "code",
   "execution_count": 3,
   "metadata": {},
   "outputs": [],
   "source": [
    "kids['age'] = (14, 12, 11, 10, 8, 6, 8)"
   ]
  },
  {
   "cell_type": "code",
   "execution_count": 4,
   "metadata": {},
   "outputs": [
    {
     "name": "stdout",
     "output_type": "stream",
     "text": [
      "     name  age\n",
      "0    Greg   14\n",
      "1  Marcia   12\n",
      "2   Peter   11\n",
      "3     Jan   10\n",
      "4   Bobby    8\n",
      "5   Cindy    6\n",
      "6  Oliver    8\n"
     ]
    }
   ],
   "source": [
    "print(kids)"
   ]
  },
  {
   "cell_type": "code",
   "execution_count": 5,
   "metadata": {},
   "outputs": [
    {
     "data": {
      "text/plain": [
       "True"
      ]
     },
     "execution_count": 5,
     "metadata": {},
     "output_type": "execute_result"
    }
   ],
   "source": [
    "mean_me = (14 + 12 + 11 + 10 + 8 + 6 + 8) / 7\n",
    "mean_check = np.mean(kids.age)\n",
    "mean_me == mean_check"
   ]
  },
  {
   "cell_type": "code",
   "execution_count": 6,
   "metadata": {},
   "outputs": [
    {
     "data": {
      "text/plain": [
       "True"
      ]
     },
     "execution_count": 6,
     "metadata": {},
     "output_type": "execute_result"
    }
   ],
   "source": [
    "median_me = 10 #3 values each side\n",
    "median_check = np.median(kids.age)\n",
    "median_me == median_check"
   ]
  },
  {
   "cell_type": "code",
   "execution_count": 7,
   "metadata": {},
   "outputs": [
    {
     "data": {
      "text/plain": [
       "True"
      ]
     },
     "execution_count": 7,
     "metadata": {},
     "output_type": "execute_result"
    }
   ],
   "source": [
    "mode_me = 8 #most common\n",
    "mode_check = statistics.mode(kids.age)\n",
    "mode_me == mode_check"
   ]
  },
  {
   "cell_type": "code",
   "execution_count": 8,
   "metadata": {},
   "outputs": [
    {
     "data": {
      "text/plain": [
       "True"
      ]
     },
     "execution_count": 8,
     "metadata": {},
     "output_type": "execute_result"
    }
   ],
   "source": [
    "variance_me = (((14 - mean_me)**2 + (12 - mean_me)**2 + (11 - mean_me)**2 + (10 - mean_me)**2 + (8 - mean_me)**2 + (6 - mean_me)**2 + (8 - mean_me)**2)) / (7 - 1)\n",
    "variance_check = np.var(kids.age, ddof =1)\n",
    "variance_me == variance_check"
   ]
  },
  {
   "cell_type": "code",
   "execution_count": 9,
   "metadata": {},
   "outputs": [
    {
     "data": {
      "text/plain": [
       "True"
      ]
     },
     "execution_count": 9,
     "metadata": {},
     "output_type": "execute_result"
    }
   ],
   "source": [
    "std_me = np.sqrt(variance_me)\n",
    "std_check = np.std(kids.age, ddof =1)\n",
    "std_me == std_check"
   ]
  },
  {
   "cell_type": "code",
   "execution_count": 10,
   "metadata": {},
   "outputs": [
    {
     "data": {
      "text/plain": [
       "True"
      ]
     },
     "execution_count": 10,
     "metadata": {},
     "output_type": "execute_result"
    }
   ],
   "source": [
    "se_me = std_me / 7**0.5\n",
    "se_check = std_check / np.sqrt(len(kids.age))\n",
    "se_me == se_check"
   ]
  },
  {
   "cell_type": "markdown",
   "metadata": {},
   "source": [
    "If I had to choose one estimate of central tendency I would choose the mean. There are no especially large or small numbers to skew the mean unfairly in one direction so it is a good representation of the overall data.\n",
    "\n",
    "I would choose the standard deviation as the one estimate of variance as it is the most easily understandable - i.e. the number is a good indication of how much bigger or smaller other datapoints are from the mean."
   ]
  },
  {
   "cell_type": "code",
   "execution_count": 11,
   "metadata": {},
   "outputs": [
    {
     "name": "stdout",
     "output_type": "stream",
     "text": [
      "     name  age  age2\n",
      "0    Greg   14    14\n",
      "1  Marcia   12    12\n",
      "2   Peter   11    11\n",
      "3     Jan   10    10\n",
      "4   Bobby    8     8\n",
      "5   Cindy    6     7\n",
      "6  Oliver    8     8\n"
     ]
    }
   ],
   "source": [
    "kids['age2'] = kids['age']\n",
    "kids.loc[5, 'age2'] = 7\n",
    "print(kids)"
   ]
  },
  {
   "cell_type": "code",
   "execution_count": 12,
   "metadata": {},
   "outputs": [
    {
     "data": {
      "text/plain": [
       "False"
      ]
     },
     "execution_count": 12,
     "metadata": {},
     "output_type": "execute_result"
    }
   ],
   "source": [
    "mean2 = np.mean(kids.age2)\n",
    "mean_me == mean2 #add it all up and divide by the number so is different"
   ]
  },
  {
   "cell_type": "code",
   "execution_count": 13,
   "metadata": {},
   "outputs": [
    {
     "data": {
      "text/plain": [
       "True"
      ]
     },
     "execution_count": 13,
     "metadata": {},
     "output_type": "execute_result"
    }
   ],
   "source": [
    "median2 = np.median(kids.age2)\n",
    "median_me == median2 #middle number is the same"
   ]
  },
  {
   "cell_type": "code",
   "execution_count": 14,
   "metadata": {},
   "outputs": [
    {
     "data": {
      "text/plain": [
       "True"
      ]
     },
     "execution_count": 14,
     "metadata": {},
     "output_type": "execute_result"
    }
   ],
   "source": [
    "mode2 = statistics.mode(kids.age2)\n",
    "mode_me == mode2 #most common number is the same"
   ]
  },
  {
   "cell_type": "code",
   "execution_count": 15,
   "metadata": {},
   "outputs": [
    {
     "data": {
      "text/plain": [
       "False"
      ]
     },
     "execution_count": 15,
     "metadata": {},
     "output_type": "execute_result"
    }
   ],
   "source": [
    "variance2 = np.var(kids.age2, ddof=1)\n",
    "variance_me == variance2 #squared difference will be different for Cindy"
   ]
  },
  {
   "cell_type": "markdown",
   "metadata": {},
   "source": [
    "Standard deviation and standard error will also be false as they derive from variance."
   ]
  },
  {
   "cell_type": "code",
   "execution_count": 17,
   "metadata": {},
   "outputs": [
    {
     "name": "stdout",
     "output_type": "stream",
     "text": [
      "      name  age  age2\n",
      "0     Greg   14    14\n",
      "1   Marcia   12    12\n",
      "2    Peter   11    11\n",
      "3      Jan   10    10\n",
      "4    Bobby    8     8\n",
      "5    Cindy    6     7\n",
      "6  Jessica    1     1\n"
     ]
    }
   ],
   "source": [
    "kids_new = kids\n",
    "kids_new.loc[6, 'name'] = 'Jessica'\n",
    "kids_new.loc[6, 'age'] = 1\n",
    "kids_new.loc[6, 'age2'] = 1\n",
    "print(kids_new)"
   ]
  },
  {
   "cell_type": "code",
   "execution_count": 19,
   "metadata": {},
   "outputs": [
    {
     "name": "stdout",
     "output_type": "stream",
     "text": [
      "8.857142857142858\n",
      "10.0\n",
      "18.80952380952381\n",
      "4.3369947901195145\n",
      "1.6392299502912862\n"
     ]
    }
   ],
   "source": [
    "print(np.mean(kids_new.age))\n",
    "print(np.median(kids_new.age))\n",
    "# print(statistics.mode(kids_new.age)) all equally common\n",
    "print(np.var(kids_new.age, ddof=1))\n",
    "print(np.std(kids_new.age, ddof=1))\n",
    "print(np.std(kids_new.age, ddof=1)/np.sqrt(len(kids_new.age)))"
   ]
  },
  {
   "cell_type": "markdown",
   "metadata": {},
   "source": [
    "Median is a more sensible central tendency now as Jessica's age is so different.\n",
    "Standard deviation is still a good measure."
   ]
  },
  {
   "cell_type": "markdown",
   "metadata": {},
   "source": [
    "I estimate around 20% of the population were fans of the show. I have discounted the SciPhi Phanatic number because it is aimed at a particular section of the population (sci-fi fans) which the Brady Bunch isn't (I think). I assume that TV Guide is read by a more proportional cross-section of the public as a whole so is more reliable as an estimate. It is corroborated by the other two magazines which have similar percentages but again are perhaps targeted at more specialized audiences."
   ]
  },
  {
   "cell_type": "code",
   "execution_count": null,
   "metadata": {},
   "outputs": [],
   "source": []
  }
 ],
 "metadata": {
  "kernelspec": {
   "display_name": "Python 3",
   "language": "python",
   "name": "python3"
  },
  "language_info": {
   "codemirror_mode": {
    "name": "ipython",
    "version": 3
   },
   "file_extension": ".py",
   "mimetype": "text/x-python",
   "name": "python",
   "nbconvert_exporter": "python",
   "pygments_lexer": "ipython3",
   "version": "3.7.2"
  }
 },
 "nbformat": 4,
 "nbformat_minor": 2
}
