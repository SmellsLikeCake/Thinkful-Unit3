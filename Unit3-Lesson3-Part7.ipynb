{
 "cells": [
  {
   "cell_type": "code",
   "execution_count": 1,
   "metadata": {},
   "outputs": [],
   "source": [
    "import numpy as np\n",
    "import pandas as pd\n",
    "import matplotlib.pyplot as plt\n",
    "%matplotlib inline"
   ]
  },
  {
   "cell_type": "code",
   "execution_count": 2,
   "metadata": {},
   "outputs": [
    {
     "name": "stdout",
     "output_type": "stream",
     "text": [
      "1.96\n",
      "5.21\n",
      "1.2483589227461787\n",
      "1.4092196422133776\n"
     ]
    }
   ],
   "source": [
    "pop1 = np.random.binomial(10, 0.2, 10000)\n",
    "pop2 = np.random.binomial(10, 0.5, 10000)\n",
    "\n",
    "sample1 = np.random.choice(pop1, 100, replace=True)\n",
    "sample2 = np.random.choice(pop2, 100, replace=True)\n",
    "\n",
    "print(sample1.mean())\n",
    "print(sample2.mean())\n",
    "print(sample1.std())\n",
    "print(sample2.std())"
   ]
  },
  {
   "cell_type": "markdown",
   "metadata": {},
   "source": [
    "I expect that the means will get closer to 2 and 5 respectively (n * p) as the sample size increases, as the larger the sample is, the more like the population it is. The standard deviations are also likely to be smaller as they will be less affected by extreme values."
   ]
  },
  {
   "cell_type": "code",
   "execution_count": 5,
   "metadata": {},
   "outputs": [
    {
     "name": "stdout",
     "output_type": "stream",
     "text": [
      "2.048\n",
      "4.981\n",
      "1.26952589575794\n",
      "1.558409124716613\n"
     ]
    },
    {
     "data": {
      "image/png": "[encoded data removed]",
      "text/plain": [
       "<Figure size 432x288 with 1 Axes>"
      ]
     },
     "metadata": {
      "needs_background": "light"
     },
     "output_type": "display_data"
    }
   ],
   "source": [
    "sample1a = np.random.choice(pop1, 1000, replace=True)\n",
    "sample2a = np.random.choice(pop2, 1000, replace=True)\n",
    "\n",
    "print(sample1a.mean())\n",
    "print(sample2a.mean())\n",
    "print(sample1a.std())\n",
    "print(sample2a.std())\n",
    "\n",
    "plt.hist(sample1a, alpha=0.5, label='Sample1 - 1000')\n",
    "plt.hist(sample2a, alpha=0.5, label='Sample2 - 1000')\n",
    "plt.legend(loc='upper right')\n",
    "plt.show()"
   ]
  },
  {
   "cell_type": "markdown",
   "metadata": {},
   "source": [
    "I was correct about the means but wrong about the standard deviations. Both stds increased with an increased sample size."
   ]
  },
  {
   "cell_type": "code",
   "execution_count": 6,
   "metadata": {},
   "outputs": [
    {
     "name": "stdout",
     "output_type": "stream",
     "text": [
      "2.15\n",
      "4.95\n",
      "1.7684739183827394\n",
      "1.2835497652993437\n"
     ]
    },
    {
     "data": {
      "image/png": "[encoded data removed]",
      "text/plain": [
       "<Figure size 432x288 with 1 Axes>"
      ]
     },
     "metadata": {
      "needs_background": "light"
     },
     "output_type": "display_data"
    }
   ],
   "source": [
    "sample1b = np.random.choice(pop1, 20, replace=True)\n",
    "sample2b = np.random.choice(pop2, 20, replace=True)\n",
    "\n",
    "print(sample1b.mean())\n",
    "print(sample2b.mean())\n",
    "print(sample1b.std())\n",
    "print(sample2b.std())\n",
    "\n",
    "plt.hist(sample1b, alpha=0.5, label='Sample1 - 20')\n",
    "plt.hist(sample2b, alpha=0.5, label='Sample2 - 20')\n",
    "plt.legend(loc='upper right')\n",
    "plt.show()"
   ]
  },
  {
   "cell_type": "markdown",
   "metadata": {},
   "source": [
    "Here sample1b's std is higher than the original one but sample2b's is lower. Changes in the std are more dependent on the parameters of the distribution."
   ]
  },
  {
   "cell_type": "code",
   "execution_count": 7,
   "metadata": {},
   "outputs": [],
   "source": [
    "pop1 = np.random.binomial(10, 0.3, 10000)"
   ]
  },
  {
   "cell_type": "code",
   "execution_count": 9,
   "metadata": {},
   "outputs": [
    {
     "name": "stdout",
     "output_type": "stream",
     "text": [
      "9.042348528611521\n"
     ]
    }
   ],
   "source": [
    "sample1 = np.random.choice(pop1, 100, replace=True)\n",
    "sample2 = np.random.choice(pop2, 100, replace=True)\n",
    "\n",
    "diff = sample2.mean() - sample1.mean()\n",
    "\n",
    "sd = np.array([sample1.std(), sample2.std()])\n",
    "n = np.array([len(sample1), len(sample2)])\n",
    "\n",
    "se = (sum(sd **2 / n)) ** 0.5\n",
    "\n",
    "t_stat = diff / se\n",
    "\n",
    "print(t_stat)"
   ]
  },
  {
   "cell_type": "code",
   "execution_count": 10,
   "metadata": {},
   "outputs": [
    {
     "name": "stdout",
     "output_type": "stream",
     "text": [
      "Ttest_indResult(statistic=-8.997023187907994, pvalue=1.979737367377975e-16)\n"
     ]
    }
   ],
   "source": [
    "from scipy.stats import ttest_ind\n",
    "print(ttest_ind(sample1, sample2, equal_var=False))"
   ]
  },
  {
   "cell_type": "code",
   "execution_count": 11,
   "metadata": {},
   "outputs": [
    {
     "name": "stdout",
     "output_type": "stream",
     "text": [
      "5.031262480977557\n"
     ]
    }
   ],
   "source": [
    "pop1 = np.random.binomial(10, 0.4, 10000)\n",
    "\n",
    "sample1 = np.random.choice(pop1, 100, replace=True)\n",
    "sample2 = np.random.choice(pop2, 100, replace=True)\n",
    "\n",
    "diff = sample2.mean() - sample1.mean()\n",
    "\n",
    "sd = np.array([sample1.std(), sample2.std()])\n",
    "n = np.array([len(sample1), len(sample2)])\n",
    "\n",
    "se = (sum(sd **2 / n)) ** 0.5\n",
    "\n",
    "t_stat = diff / se\n",
    "\n",
    "print(t_stat)"
   ]
  },
  {
   "cell_type": "code",
   "execution_count": 12,
   "metadata": {},
   "outputs": [
    {
     "name": "stdout",
     "output_type": "stream",
     "text": [
      "Ttest_indResult(statistic=-5.0060429613585535, pvalue=1.2248086373304837e-06)\n"
     ]
    }
   ],
   "source": [
    "print(ttest_ind(sample1, sample2, equal_var=False))"
   ]
  },
  {
   "cell_type": "markdown",
   "metadata": {},
   "source": [
    "The t-values and p-values are getting smaller because the distributions are becoming more similar. Therefore it is more likely that the samples come from the same distribution as they get more similar."
   ]
  },
  {
   "cell_type": "code",
   "execution_count": 23,
   "metadata": {},
   "outputs": [
    {
     "name": "stdout",
     "output_type": "stream",
     "text": [
      "4.99487015211391\n",
      "7.868479468191028\n",
      "4.916528699027282\n",
      "7.752211869991954\n"
     ]
    }
   ],
   "source": [
    "pop1 = np.random.exponential(5, 10000)\n",
    "pop2 = np.random.exponential(8, 10000)\n",
    "\n",
    "print(pop1.mean())\n",
    "print(pop2.mean())\n",
    "print(pop1.std())\n",
    "print(pop2.std())"
   ]
  },
  {
   "cell_type": "code",
   "execution_count": 24,
   "metadata": {},
   "outputs": [
    {
     "name": "stdout",
     "output_type": "stream",
     "text": [
      "4.248670195923826\n",
      "7.465897741543122\n",
      "3.586609268165497\n",
      "7.178896986094488\n"
     ]
    }
   ],
   "source": [
    "sample1 = np.random.choice(pop1, 100, replace=True)\n",
    "sample2 = np.random.choice(pop2, 100, replace=True)\n",
    "\n",
    "print(sample1.mean())\n",
    "print(sample2.mean())\n",
    "print(sample1.std())\n",
    "print(sample2.std())"
   ]
  },
  {
   "cell_type": "code",
   "execution_count": 25,
   "metadata": {},
   "outputs": [
    {
     "name": "stdout",
     "output_type": "stream",
     "text": [
      "4.009015532328139\n"
     ]
    }
   ],
   "source": [
    "diff = sample2.mean() - sample1.mean()\n",
    "\n",
    "sd = np.array([sample1.std(), sample2.std()])\n",
    "n = np.array([len(sample1), len(sample2)])\n",
    "\n",
    "diff_se = (sum(sd **2 / n)) ** 0.5\n",
    "\n",
    "t_test = diff / diff_se\n",
    "\n",
    "print(t_test)"
   ]
  },
  {
   "cell_type": "code",
   "execution_count": 26,
   "metadata": {},
   "outputs": [
    {
     "name": "stdout",
     "output_type": "stream",
     "text": [
      "Ttest_indResult(statistic=-3.9889200898318067, pvalue=0.00010476213028720198)\n"
     ]
    }
   ],
   "source": [
    "print(ttest_ind(sample1, sample2, equal_var=False))"
   ]
  },
  {
   "cell_type": "markdown",
   "metadata": {},
   "source": [
    "I have run the exponential one a few times and the t-values and p-values have ranged quite widely, from pvalues = 0.1 to 0.0001. I think this suggests that bigger samples are needed.\n",
    "\n",
    "Sample means have remained fairly close."
   ]
  },
  {
   "cell_type": "code",
   "execution_count": null,
   "metadata": {},
   "outputs": [],
   "source": []
  }
 ],
 "metadata": {
  "kernelspec": {
   "display_name": "Python 3",
   "language": "python",
   "name": "python3"
  },
  "language_info": {
   "codemirror_mode": {
    "name": "ipython",
    "version": 3
   },
   "file_extension": ".py",
   "mimetype": "text/x-python",
   "name": "python",
   "nbconvert_exporter": "python",
   "pygments_lexer": "ipython3",
   "version": "3.7.2"
  }
 },
 "nbformat": 4,
 "nbformat_minor": 2
}
